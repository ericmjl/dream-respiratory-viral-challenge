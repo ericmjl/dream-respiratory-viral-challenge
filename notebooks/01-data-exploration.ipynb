{
 "cells": [
  {
   "cell_type": "code",
   "execution_count": 32,
   "metadata": {
    "collapsed": false,
    "nbpresent": {
     "id": "e7e8f414-a46d-49dd-a449-a022d0d90a38"
    }
   },
   "outputs": [],
   "source": [
    "import dask.dataframe as dd\n",
    "import pandas as pd\n",
    "import pandas_profiling as pp\n",
    "import numpy as np"
   ]
  },
  {
   "cell_type": "markdown",
   "metadata": {
    "nbpresent": {
     "id": "9cbe09e5-d7b0-41b8-833b-ff31b32f3c10"
    }
   },
   "source": [
    "# Data Exploration\n",
    "\n",
    "Let's explore a bit the structure of each of the data provided to us."
   ]
  },
  {
   "cell_type": "markdown",
   "metadata": {
    "nbpresent": {
     "id": "698b45f2-efb9-4850-ae5c-6faa599d421c"
    }
   },
   "source": [
    "First off, let's load the expression data."
   ]
  },
  {
   "cell_type": "code",
   "execution_count": 28,
   "metadata": {
    "collapsed": false,
    "nbpresent": {
     "id": "398e11ab-22d9-4948-9361-86e2db9a6261"
    }
   },
   "outputs": [
    {
     "data": {
      "text/plain": [
       "dd.DataFrame<from-de..., npartitions=27>"
      ]
     },
     "execution_count": 28,
     "metadata": {},
     "output_type": "execute_result"
    }
   ],
   "source": [
    "expression_df = dd.read_csv('../data/ViralChallenge_training_EXPRESSION_RMA.tsv', sep=\"\\t\")\n",
    "expression_df"
   ]
  },
  {
   "cell_type": "code",
   "execution_count": 29,
   "metadata": {
    "collapsed": false,
    "nbpresent": {
     "id": "6481f260-c4f0-474b-b9b7-e042c15fc432"
    }
   },
   "outputs": [
    {
     "data": {
      "text/html": [
       "<div>\n",
       "<table border=\"1\" class=\"dataframe\">\n",
       "  <thead>\n",
       "    <tr style=\"text-align: right;\">\n",
       "      <th></th>\n",
       "      <th>1359_267001_HG-U133A_2_41802_DU07-02S06023.CEL</th>\n",
       "      <th>1359_267002_HG-U133A_2_41803_DU07-02S06196.CEL</th>\n",
       "      <th>1359_267003_HG-U133A_2_41804_DU07-02S06190.CEL</th>\n",
       "      <th>1359_267004_HG-U133A_2_41805_DU07-02S06002.CEL</th>\n",
       "      <th>1359_267005_HG-U133A_2_41806_DU07-02S06813.CEL</th>\n",
       "      <th>1359_267006_HG-U133A_2_41807_DU07-02S06192.CEL</th>\n",
       "      <th>1359_267007_HG-U133A_2_41808_DU07-02S05998.CEL</th>\n",
       "      <th>1359_267008_HG-U133A_2_41809_DU07-02S06807.CEL</th>\n",
       "      <th>1359_267009_HG-U133A_2_41810_DU07-02S03423.CEL</th>\n",
       "      <th>1359_267010_HG-U133A_2_41811_DU07-02S06805.CEL</th>\n",
       "      <th>...</th>\n",
       "      <th>2959_207861_HG-U133A_2_DU11-02S14057.CEL</th>\n",
       "      <th>2959_207862_HG-U133A_2_DU11-02S13903.CEL</th>\n",
       "      <th>2959_207863_HG-U133A_2_DU11-02S12061.CEL</th>\n",
       "      <th>2959_209104_HG-U133A_2_DU11-02S10608_37102.CEL</th>\n",
       "      <th>2959_209105_HG-U133A_2_DU11-02S13884_37103.CEL</th>\n",
       "      <th>2959_209106_HG-U133A_2_DU11-02S12614_37104.CEL</th>\n",
       "      <th>2959_209108_HG-U133A_2_DU11-02S11909_37106.CEL</th>\n",
       "      <th>2959_209110_HG-U133A_2_DU11-02S14698_37108.CEL</th>\n",
       "      <th>2959_209111_HG-U133A_2_DU11-02S10604_37109.CEL</th>\n",
       "      <th>2959_209113_HG-U133A_2_DU11-02S10600_37111.CEL</th>\n",
       "    </tr>\n",
       "  </thead>\n",
       "  <tbody>\n",
       "    <tr>\n",
       "      <th>count</th>\n",
       "      <td>22277.000000</td>\n",
       "      <td>22277.000000</td>\n",
       "      <td>22277.000000</td>\n",
       "      <td>22277.000000</td>\n",
       "      <td>22277.000000</td>\n",
       "      <td>22277.000000</td>\n",
       "      <td>22277.000000</td>\n",
       "      <td>22277.000000</td>\n",
       "      <td>22277.000000</td>\n",
       "      <td>22277.000000</td>\n",
       "      <td>...</td>\n",
       "      <td>22277.000000</td>\n",
       "      <td>22277.000000</td>\n",
       "      <td>22277.000000</td>\n",
       "      <td>22277.000000</td>\n",
       "      <td>22277.000000</td>\n",
       "      <td>22277.000000</td>\n",
       "      <td>22277.000000</td>\n",
       "      <td>22277.000000</td>\n",
       "      <td>22277.000000</td>\n",
       "      <td>22277.000000</td>\n",
       "    </tr>\n",
       "    <tr>\n",
       "      <th>mean</th>\n",
       "      <td>6.921400</td>\n",
       "      <td>6.935859</td>\n",
       "      <td>6.922261</td>\n",
       "      <td>6.935892</td>\n",
       "      <td>6.954544</td>\n",
       "      <td>6.944312</td>\n",
       "      <td>6.946065</td>\n",
       "      <td>6.924107</td>\n",
       "      <td>6.906131</td>\n",
       "      <td>6.913078</td>\n",
       "      <td>...</td>\n",
       "      <td>6.943036</td>\n",
       "      <td>6.955064</td>\n",
       "      <td>6.982101</td>\n",
       "      <td>6.985898</td>\n",
       "      <td>6.984924</td>\n",
       "      <td>6.965654</td>\n",
       "      <td>6.990255</td>\n",
       "      <td>6.960311</td>\n",
       "      <td>6.958146</td>\n",
       "      <td>6.962315</td>\n",
       "    </tr>\n",
       "    <tr>\n",
       "      <th>std</th>\n",
       "      <td>2.096796</td>\n",
       "      <td>2.122171</td>\n",
       "      <td>2.115084</td>\n",
       "      <td>2.109191</td>\n",
       "      <td>2.202314</td>\n",
       "      <td>2.150475</td>\n",
       "      <td>2.158044</td>\n",
       "      <td>2.106653</td>\n",
       "      <td>2.025986</td>\n",
       "      <td>2.032078</td>\n",
       "      <td>...</td>\n",
       "      <td>2.147302</td>\n",
       "      <td>2.160888</td>\n",
       "      <td>2.198382</td>\n",
       "      <td>2.231505</td>\n",
       "      <td>2.260028</td>\n",
       "      <td>2.180502</td>\n",
       "      <td>2.217921</td>\n",
       "      <td>2.107778</td>\n",
       "      <td>2.138753</td>\n",
       "      <td>2.126384</td>\n",
       "    </tr>\n",
       "    <tr>\n",
       "      <th>min</th>\n",
       "      <td>3.073959</td>\n",
       "      <td>3.068887</td>\n",
       "      <td>2.993459</td>\n",
       "      <td>3.019056</td>\n",
       "      <td>3.043383</td>\n",
       "      <td>3.056225</td>\n",
       "      <td>3.073183</td>\n",
       "      <td>2.937167</td>\n",
       "      <td>3.086759</td>\n",
       "      <td>3.064118</td>\n",
       "      <td>...</td>\n",
       "      <td>2.996562</td>\n",
       "      <td>2.910182</td>\n",
       "      <td>3.102592</td>\n",
       "      <td>3.066063</td>\n",
       "      <td>2.962620</td>\n",
       "      <td>3.057105</td>\n",
       "      <td>3.073871</td>\n",
       "      <td>3.056392</td>\n",
       "      <td>3.021631</td>\n",
       "      <td>3.009176</td>\n",
       "    </tr>\n",
       "    <tr>\n",
       "      <th>25%</th>\n",
       "      <td>5.917075</td>\n",
       "      <td>5.867260</td>\n",
       "      <td>5.906455</td>\n",
       "      <td>5.879266</td>\n",
       "      <td>5.801718</td>\n",
       "      <td>5.861123</td>\n",
       "      <td>5.807234</td>\n",
       "      <td>5.892868</td>\n",
       "      <td>6.041295</td>\n",
       "      <td>6.015189</td>\n",
       "      <td>...</td>\n",
       "      <td>5.857091</td>\n",
       "      <td>5.875031</td>\n",
       "      <td>5.754975</td>\n",
       "      <td>5.813493</td>\n",
       "      <td>5.745416</td>\n",
       "      <td>5.869748</td>\n",
       "      <td>5.804152</td>\n",
       "      <td>5.964902</td>\n",
       "      <td>5.964157</td>\n",
       "      <td>5.911623</td>\n",
       "    </tr>\n",
       "    <tr>\n",
       "      <th>50%</th>\n",
       "      <td>7.568419</td>\n",
       "      <td>7.531649</td>\n",
       "      <td>7.546725</td>\n",
       "      <td>7.587097</td>\n",
       "      <td>7.620074</td>\n",
       "      <td>7.552090</td>\n",
       "      <td>7.627755</td>\n",
       "      <td>7.569310</td>\n",
       "      <td>7.372592</td>\n",
       "      <td>7.425733</td>\n",
       "      <td>...</td>\n",
       "      <td>7.492677</td>\n",
       "      <td>7.446610</td>\n",
       "      <td>7.569318</td>\n",
       "      <td>7.626423</td>\n",
       "      <td>7.646703</td>\n",
       "      <td>7.605504</td>\n",
       "      <td>7.603166</td>\n",
       "      <td>7.420470</td>\n",
       "      <td>7.371731</td>\n",
       "      <td>7.471676</td>\n",
       "    </tr>\n",
       "    <tr>\n",
       "      <th>75%</th>\n",
       "      <td>10.748555</td>\n",
       "      <td>10.826669</td>\n",
       "      <td>10.805038</td>\n",
       "      <td>10.781538</td>\n",
       "      <td>10.988177</td>\n",
       "      <td>10.923904</td>\n",
       "      <td>10.947632</td>\n",
       "      <td>10.766456</td>\n",
       "      <td>10.589365</td>\n",
       "      <td>10.654006</td>\n",
       "      <td>...</td>\n",
       "      <td>10.926464</td>\n",
       "      <td>10.883160</td>\n",
       "      <td>11.110975</td>\n",
       "      <td>11.153522</td>\n",
       "      <td>11.302838</td>\n",
       "      <td>11.022459</td>\n",
       "      <td>11.143046</td>\n",
       "      <td>10.886456</td>\n",
       "      <td>10.762195</td>\n",
       "      <td>10.862240</td>\n",
       "    </tr>\n",
       "    <tr>\n",
       "      <th>max</th>\n",
       "      <td>15.083092</td>\n",
       "      <td>15.121555</td>\n",
       "      <td>15.087082</td>\n",
       "      <td>15.139452</td>\n",
       "      <td>15.132529</td>\n",
       "      <td>15.100740</td>\n",
       "      <td>15.153847</td>\n",
       "      <td>15.092350</td>\n",
       "      <td>15.087332</td>\n",
       "      <td>15.088848</td>\n",
       "      <td>...</td>\n",
       "      <td>15.090479</td>\n",
       "      <td>15.129438</td>\n",
       "      <td>15.028418</td>\n",
       "      <td>15.074031</td>\n",
       "      <td>14.987459</td>\n",
       "      <td>15.114301</td>\n",
       "      <td>15.132529</td>\n",
       "      <td>15.048622</td>\n",
       "      <td>15.146937</td>\n",
       "      <td>15.046067</td>\n",
       "    </tr>\n",
       "  </tbody>\n",
       "</table>\n",
       "<p>8 rows × 2371 columns</p>\n",
       "</div>"
      ],
      "text/plain": [
       "       1359_267001_HG-U133A_2_41802_DU07-02S06023.CEL  \\\n",
       "count                                    22277.000000   \n",
       "mean                                         6.921400   \n",
       "std                                          2.096796   \n",
       "min                                          3.073959   \n",
       "25%                                          5.917075   \n",
       "50%                                          7.568419   \n",
       "75%                                         10.748555   \n",
       "max                                         15.083092   \n",
       "\n",
       "       1359_267002_HG-U133A_2_41803_DU07-02S06196.CEL  \\\n",
       "count                                    22277.000000   \n",
       "mean                                         6.935859   \n",
       "std                                          2.122171   \n",
       "min                                          3.068887   \n",
       "25%                                          5.867260   \n",
       "50%                                          7.531649   \n",
       "75%                                         10.826669   \n",
       "max                                         15.121555   \n",
       "\n",
       "       1359_267003_HG-U133A_2_41804_DU07-02S06190.CEL  \\\n",
       "count                                    22277.000000   \n",
       "mean                                         6.922261   \n",
       "std                                          2.115084   \n",
       "min                                          2.993459   \n",
       "25%                                          5.906455   \n",
       "50%                                          7.546725   \n",
       "75%                                         10.805038   \n",
       "max                                         15.087082   \n",
       "\n",
       "       1359_267004_HG-U133A_2_41805_DU07-02S06002.CEL  \\\n",
       "count                                    22277.000000   \n",
       "mean                                         6.935892   \n",
       "std                                          2.109191   \n",
       "min                                          3.019056   \n",
       "25%                                          5.879266   \n",
       "50%                                          7.587097   \n",
       "75%                                         10.781538   \n",
       "max                                         15.139452   \n",
       "\n",
       "       1359_267005_HG-U133A_2_41806_DU07-02S06813.CEL  \\\n",
       "count                                    22277.000000   \n",
       "mean                                         6.954544   \n",
       "std                                          2.202314   \n",
       "min                                          3.043383   \n",
       "25%                                          5.801718   \n",
       "50%                                          7.620074   \n",
       "75%                                         10.988177   \n",
       "max                                         15.132529   \n",
       "\n",
       "       1359_267006_HG-U133A_2_41807_DU07-02S06192.CEL  \\\n",
       "count                                    22277.000000   \n",
       "mean                                         6.944312   \n",
       "std                                          2.150475   \n",
       "min                                          3.056225   \n",
       "25%                                          5.861123   \n",
       "50%                                          7.552090   \n",
       "75%                                         10.923904   \n",
       "max                                         15.100740   \n",
       "\n",
       "       1359_267007_HG-U133A_2_41808_DU07-02S05998.CEL  \\\n",
       "count                                    22277.000000   \n",
       "mean                                         6.946065   \n",
       "std                                          2.158044   \n",
       "min                                          3.073183   \n",
       "25%                                          5.807234   \n",
       "50%                                          7.627755   \n",
       "75%                                         10.947632   \n",
       "max                                         15.153847   \n",
       "\n",
       "       1359_267008_HG-U133A_2_41809_DU07-02S06807.CEL  \\\n",
       "count                                    22277.000000   \n",
       "mean                                         6.924107   \n",
       "std                                          2.106653   \n",
       "min                                          2.937167   \n",
       "25%                                          5.892868   \n",
       "50%                                          7.569310   \n",
       "75%                                         10.766456   \n",
       "max                                         15.092350   \n",
       "\n",
       "       1359_267009_HG-U133A_2_41810_DU07-02S03423.CEL  \\\n",
       "count                                    22277.000000   \n",
       "mean                                         6.906131   \n",
       "std                                          2.025986   \n",
       "min                                          3.086759   \n",
       "25%                                          6.041295   \n",
       "50%                                          7.372592   \n",
       "75%                                         10.589365   \n",
       "max                                         15.087332   \n",
       "\n",
       "       1359_267010_HG-U133A_2_41811_DU07-02S06805.CEL  \\\n",
       "count                                    22277.000000   \n",
       "mean                                         6.913078   \n",
       "std                                          2.032078   \n",
       "min                                          3.064118   \n",
       "25%                                          6.015189   \n",
       "50%                                          7.425733   \n",
       "75%                                         10.654006   \n",
       "max                                         15.088848   \n",
       "\n",
       "                            ...                        \\\n",
       "count                       ...                         \n",
       "mean                        ...                         \n",
       "std                         ...                         \n",
       "min                         ...                         \n",
       "25%                         ...                         \n",
       "50%                         ...                         \n",
       "75%                         ...                         \n",
       "max                         ...                         \n",
       "\n",
       "       2959_207861_HG-U133A_2_DU11-02S14057.CEL  \\\n",
       "count                              22277.000000   \n",
       "mean                                   6.943036   \n",
       "std                                    2.147302   \n",
       "min                                    2.996562   \n",
       "25%                                    5.857091   \n",
       "50%                                    7.492677   \n",
       "75%                                   10.926464   \n",
       "max                                   15.090479   \n",
       "\n",
       "       2959_207862_HG-U133A_2_DU11-02S13903.CEL  \\\n",
       "count                              22277.000000   \n",
       "mean                                   6.955064   \n",
       "std                                    2.160888   \n",
       "min                                    2.910182   \n",
       "25%                                    5.875031   \n",
       "50%                                    7.446610   \n",
       "75%                                   10.883160   \n",
       "max                                   15.129438   \n",
       "\n",
       "       2959_207863_HG-U133A_2_DU11-02S12061.CEL  \\\n",
       "count                              22277.000000   \n",
       "mean                                   6.982101   \n",
       "std                                    2.198382   \n",
       "min                                    3.102592   \n",
       "25%                                    5.754975   \n",
       "50%                                    7.569318   \n",
       "75%                                   11.110975   \n",
       "max                                   15.028418   \n",
       "\n",
       "       2959_209104_HG-U133A_2_DU11-02S10608_37102.CEL  \\\n",
       "count                                    22277.000000   \n",
       "mean                                         6.985898   \n",
       "std                                          2.231505   \n",
       "min                                          3.066063   \n",
       "25%                                          5.813493   \n",
       "50%                                          7.626423   \n",
       "75%                                         11.153522   \n",
       "max                                         15.074031   \n",
       "\n",
       "       2959_209105_HG-U133A_2_DU11-02S13884_37103.CEL  \\\n",
       "count                                    22277.000000   \n",
       "mean                                         6.984924   \n",
       "std                                          2.260028   \n",
       "min                                          2.962620   \n",
       "25%                                          5.745416   \n",
       "50%                                          7.646703   \n",
       "75%                                         11.302838   \n",
       "max                                         14.987459   \n",
       "\n",
       "       2959_209106_HG-U133A_2_DU11-02S12614_37104.CEL  \\\n",
       "count                                    22277.000000   \n",
       "mean                                         6.965654   \n",
       "std                                          2.180502   \n",
       "min                                          3.057105   \n",
       "25%                                          5.869748   \n",
       "50%                                          7.605504   \n",
       "75%                                         11.022459   \n",
       "max                                         15.114301   \n",
       "\n",
       "       2959_209108_HG-U133A_2_DU11-02S11909_37106.CEL  \\\n",
       "count                                    22277.000000   \n",
       "mean                                         6.990255   \n",
       "std                                          2.217921   \n",
       "min                                          3.073871   \n",
       "25%                                          5.804152   \n",
       "50%                                          7.603166   \n",
       "75%                                         11.143046   \n",
       "max                                         15.132529   \n",
       "\n",
       "       2959_209110_HG-U133A_2_DU11-02S14698_37108.CEL  \\\n",
       "count                                    22277.000000   \n",
       "mean                                         6.960311   \n",
       "std                                          2.107778   \n",
       "min                                          3.056392   \n",
       "25%                                          5.964902   \n",
       "50%                                          7.420470   \n",
       "75%                                         10.886456   \n",
       "max                                         15.048622   \n",
       "\n",
       "       2959_209111_HG-U133A_2_DU11-02S10604_37109.CEL  \\\n",
       "count                                    22277.000000   \n",
       "mean                                         6.958146   \n",
       "std                                          2.138753   \n",
       "min                                          3.021631   \n",
       "25%                                          5.964157   \n",
       "50%                                          7.371731   \n",
       "75%                                         10.762195   \n",
       "max                                         15.146937   \n",
       "\n",
       "       2959_209113_HG-U133A_2_DU11-02S10600_37111.CEL  \n",
       "count                                    22277.000000  \n",
       "mean                                         6.962315  \n",
       "std                                          2.126384  \n",
       "min                                          3.009176  \n",
       "25%                                          5.911623  \n",
       "50%                                          7.471676  \n",
       "75%                                         10.862240  \n",
       "max                                         15.046067  \n",
       "\n",
       "[8 rows x 2371 columns]"
      ]
     },
     "execution_count": 29,
     "metadata": {},
     "output_type": "execute_result"
    }
   ],
   "source": [
    "expression_df.describe().compute()"
   ]
  },
  {
   "cell_type": "code",
   "execution_count": 24,
   "metadata": {
    "collapsed": false,
    "nbpresent": {
     "id": "c7817088-7473-46eb-8535-a2832ac82c97"
    }
   },
   "outputs": [
    {
     "data": {
      "text/plain": [
       "Index(['FEATUREID', '1590_266948_HG-U133A_2_41828_DU08-02S09371.CEL',\n",
       "       '1359_54390_H133A2_16365_DU08-02S09500.CEL',\n",
       "       '1359_54408_H133A2_16286_DU08-02S09374.CEL',\n",
       "       '1359_54410_H133A2_16287_DU08-02S09357.CEL',\n",
       "       '1359_54411_H133A2_16373_DU08-02S09360.CEL',\n",
       "       '1359_54432_H133A2_16300_DU08-02S09151.CEL',\n",
       "       '1359_54433_H133A2_16382_DU08-02S09154.CEL',\n",
       "       '1359_54434_H133A2_16301_DU08-02S09212.CEL',\n",
       "       '1359_54435_H133A2_16383_DU08-02S09203.CEL',\n",
       "       ...\n",
       "       '1359_267012_HG-U133A_2_41813_DU07-02S06811.CEL',\n",
       "       '1359_267013_HG-U133A_2_41814_DU07-02S06817.CEL',\n",
       "       '1359_267014_HG-U133A_2_41815_DU07-02S06000.CEL',\n",
       "       '1359_267015_HG-U133A_2_41816_DU07-02S06029.CEL',\n",
       "       '1359_267016_HG-U133A_2_41817_DU07-02S06194.CEL',\n",
       "       '1359_267017_HG-U133A_2_41818_DU07-02S06200.CEL',\n",
       "       '1359_267018_HG-U133A_2_41819_DU07-02S06809.CEL',\n",
       "       '1359_267019_HG-U133A_2_41820_DU07-02S06198.CEL',\n",
       "       '1359_267020_HG-U133A_2_41821_DU07-02S06025.CEL',\n",
       "       '1359_267021_HG-U133A_2_41822_DU07-02S06027.CEL'],\n",
       "      dtype='object', length=2372)"
      ]
     },
     "execution_count": 24,
     "metadata": {},
     "output_type": "execute_result"
    }
   ],
   "source": [
    "expression_df.columns"
   ]
  },
  {
   "cell_type": "markdown",
   "metadata": {
    "nbpresent": {
     "id": "7423f94c-ed4f-4b2a-993a-c655d910947e"
    }
   },
   "source": [
    "According to the [data description page](https://www.synapse.org/#!Synapse:syn5647810/wiki/399110), each column above corresponds to a sample as listed in the clinical TSV file. \n",
    "\n",
    "Only the first column, \"FEATUREID\", corresponds to the probeset; this is matched to a gene. The genes are listed in the annotation file, `HG-U133A_2.na35.annot.csv`. This might be useful to look at later on, after identifying genes that are highly predictive of, say, shedding.\n",
    "\n",
    "I decided to go open up the clinical TSV file to take a look at its structure."
   ]
  },
  {
   "cell_type": "code",
   "execution_count": 25,
   "metadata": {
    "collapsed": false,
    "nbpresent": {
     "id": "2911cc08-da4d-46ad-aef1-a8a02dc8c66b"
    },
    "scrolled": true
   },
   "outputs": [
    {
     "data": {
      "text/html": [
       "<div>\n",
       "<table border=\"1\" class=\"dataframe\">\n",
       "  <thead>\n",
       "    <tr style=\"text-align: right;\">\n",
       "      <th></th>\n",
       "      <th>STUDYID</th>\n",
       "      <th>SUBJECTID</th>\n",
       "      <th>AGE</th>\n",
       "      <th>GENDER</th>\n",
       "      <th>EARLYTX</th>\n",
       "      <th>SHAM</th>\n",
       "      <th>SHEDDING_SC1</th>\n",
       "      <th>SYMPTOMATIC_SC2</th>\n",
       "      <th>LOGSYMPTSCORE_SC3</th>\n",
       "      <th>TIMEHOURS</th>\n",
       "      <th>SAMPLEID</th>\n",
       "      <th>CEL</th>\n",
       "    </tr>\n",
       "  </thead>\n",
       "  <tbody>\n",
       "    <tr>\n",
       "      <th>0</th>\n",
       "      <td>DEE1 RSV</td>\n",
       "      <td>RSV004</td>\n",
       "      <td>25</td>\n",
       "      <td>Male</td>\n",
       "      <td>NaN</td>\n",
       "      <td>NaN</td>\n",
       "      <td>0</td>\n",
       "      <td>0</td>\n",
       "      <td>0.000000</td>\n",
       "      <td>-24.0</td>\n",
       "      <td>DU08-02S09371</td>\n",
       "      <td>1590_266948_HG-U133A_2_41828_DU08-02S09371.CEL</td>\n",
       "    </tr>\n",
       "    <tr>\n",
       "      <th>1</th>\n",
       "      <td>DEE1 RSV</td>\n",
       "      <td>RSV020</td>\n",
       "      <td>31</td>\n",
       "      <td>Male</td>\n",
       "      <td>NaN</td>\n",
       "      <td>NaN</td>\n",
       "      <td>1</td>\n",
       "      <td>1</td>\n",
       "      <td>1.230449</td>\n",
       "      <td>-24.0</td>\n",
       "      <td>DU08-02S09500</td>\n",
       "      <td>1359_54390_H133A2_16365_DU08-02S09500.CEL</td>\n",
       "    </tr>\n",
       "    <tr>\n",
       "      <th>2</th>\n",
       "      <td>DEE1 RSV</td>\n",
       "      <td>RSV010</td>\n",
       "      <td>30</td>\n",
       "      <td>Female</td>\n",
       "      <td>NaN</td>\n",
       "      <td>NaN</td>\n",
       "      <td>0</td>\n",
       "      <td>0</td>\n",
       "      <td>0.477121</td>\n",
       "      <td>-24.0</td>\n",
       "      <td>DU08-02S09374</td>\n",
       "      <td>1359_54408_H133A2_16286_DU08-02S09374.CEL</td>\n",
       "    </tr>\n",
       "    <tr>\n",
       "      <th>3</th>\n",
       "      <td>DEE1 RSV</td>\n",
       "      <td>RSV009</td>\n",
       "      <td>23</td>\n",
       "      <td>Female</td>\n",
       "      <td>NaN</td>\n",
       "      <td>NaN</td>\n",
       "      <td>0</td>\n",
       "      <td>0</td>\n",
       "      <td>0.477121</td>\n",
       "      <td>-24.0</td>\n",
       "      <td>DU08-02S09357</td>\n",
       "      <td>1359_54410_H133A2_16287_DU08-02S09357.CEL</td>\n",
       "    </tr>\n",
       "    <tr>\n",
       "      <th>4</th>\n",
       "      <td>DEE1 RSV</td>\n",
       "      <td>RSV018</td>\n",
       "      <td>22</td>\n",
       "      <td>Male</td>\n",
       "      <td>NaN</td>\n",
       "      <td>NaN</td>\n",
       "      <td>1</td>\n",
       "      <td>1</td>\n",
       "      <td>0.903090</td>\n",
       "      <td>-24.0</td>\n",
       "      <td>DU08-02S09360</td>\n",
       "      <td>1359_54411_H133A2_16373_DU08-02S09360.CEL</td>\n",
       "    </tr>\n",
       "  </tbody>\n",
       "</table>\n",
       "</div>"
      ],
      "text/plain": [
       "    STUDYID SUBJECTID  AGE  GENDER  EARLYTX SHAM  SHEDDING_SC1  \\\n",
       "0  DEE1 RSV    RSV004   25    Male      NaN  NaN             0   \n",
       "1  DEE1 RSV    RSV020   31    Male      NaN  NaN             1   \n",
       "2  DEE1 RSV    RSV010   30  Female      NaN  NaN             0   \n",
       "3  DEE1 RSV    RSV009   23  Female      NaN  NaN             0   \n",
       "4  DEE1 RSV    RSV018   22    Male      NaN  NaN             1   \n",
       "\n",
       "   SYMPTOMATIC_SC2  LOGSYMPTSCORE_SC3  TIMEHOURS       SAMPLEID  \\\n",
       "0                0           0.000000      -24.0  DU08-02S09371   \n",
       "1                1           1.230449      -24.0  DU08-02S09500   \n",
       "2                0           0.477121      -24.0  DU08-02S09374   \n",
       "3                0           0.477121      -24.0  DU08-02S09357   \n",
       "4                1           0.903090      -24.0  DU08-02S09360   \n",
       "\n",
       "                                              CEL  \n",
       "0  1590_266948_HG-U133A_2_41828_DU08-02S09371.CEL  \n",
       "1       1359_54390_H133A2_16365_DU08-02S09500.CEL  \n",
       "2       1359_54408_H133A2_16286_DU08-02S09374.CEL  \n",
       "3       1359_54410_H133A2_16287_DU08-02S09357.CEL  \n",
       "4       1359_54411_H133A2_16373_DU08-02S09360.CEL  "
      ]
     },
     "execution_count": 25,
     "metadata": {},
     "output_type": "execute_result"
    }
   ],
   "source": [
    "clinical_df = pd.read_csv('../data/ViralChallenge_training_CLINICAL.tsv', sep='\\t')\n",
    "clinical_df.head()"
   ]
  },
  {
   "cell_type": "markdown",
   "metadata": {
    "nbpresent": {
     "id": "5132008d-9cf0-4484-ac40-52a7a78b646d"
    }
   },
   "source": [
    "Each sample corresponds to one subject (`SUBJECTID`) from one study (`STUDYID`) at one timepoint (`TIMEHOURS`).\n",
    "\n",
    "Other features are available - Age (`AGE`), Biological Sex (`GENDER`), whether there was treatment (`EARLYTX`), whether the patient was sham-infected (`SHAM`), whether the patient was shedding or not (`SHEDDING_SC1`) (very conveniently summarized for us!) and the log symptom score (`LOGSYMPTSCORE_SC3`).\n",
    "\n",
    "Reminder: The challenge includes predicting:\n",
    "\n",
    "- whether a patient was shedding\n",
    "- whether a patient was symptomatic\n",
    "- the pateint's log symptom score at the end of the trial, which correspond to the `_SC1`, `_SC2` and `_SC3` columns."
   ]
  },
  {
   "cell_type": "markdown",
   "metadata": {
    "nbpresent": {
     "id": "ef6085f6-1630-4f91-8be7-0b28699ce014"
    }
   },
   "source": [
    "How many patient samples were taken?"
   ]
  },
  {
   "cell_type": "code",
   "execution_count": 40,
   "metadata": {
    "collapsed": false,
    "nbpresent": {
     "id": "0a7487cd-afd0-421e-8792-959fb09df08e"
    }
   },
   "outputs": [],
   "source": [
    "clinical_by_subjectid = []\n",
    "for grp, df in clinical_df.groupby(['STUDYID', 'SUBJECTID']):\n",
    "    clinical_by_subjectid.append(df)"
   ]
  },
  {
   "cell_type": "code",
   "execution_count": 41,
   "metadata": {
    "collapsed": false,
    "nbpresent": {
     "id": "b359fe45-2726-4de8-950b-ec1df5193339"
    }
   },
   "outputs": [
    {
     "name": "stdout",
     "output_type": "stream",
     "text": [
      "A total of 125 samples were taken.\n"
     ]
    }
   ],
   "source": [
    "n_samples = len(clinical_by_subjectid)\n",
    "\n",
    "print('A total of {n_samples} samples were taken.'.format(n_samples=n_samples))"
   ]
  },
  {
   "cell_type": "markdown",
   "metadata": {
    "nbpresent": {
     "id": "0cbd743e-e305-4744-befb-1c935544df40"
    }
   },
   "source": [
    "Let's take a look at one of the samples' data."
   ]
  },
  {
   "cell_type": "code",
   "execution_count": 55,
   "metadata": {
    "collapsed": false,
    "nbpresent": {
     "id": "a766f5bb-dc93-451d-a5f3-d37b59bcfa5f"
    }
   },
   "outputs": [
    {
     "data": {
      "text/html": [
       "<div>\n",
       "<table border=\"1\" class=\"dataframe\">\n",
       "  <thead>\n",
       "    <tr style=\"text-align: right;\">\n",
       "      <th></th>\n",
       "      <th>STUDYID</th>\n",
       "      <th>SUBJECTID</th>\n",
       "      <th>AGE</th>\n",
       "      <th>GENDER</th>\n",
       "      <th>EARLYTX</th>\n",
       "      <th>SHAM</th>\n",
       "      <th>SHEDDING_SC1</th>\n",
       "      <th>SYMPTOMATIC_SC2</th>\n",
       "      <th>LOGSYMPTSCORE_SC3</th>\n",
       "      <th>TIMEHOURS</th>\n",
       "      <th>SAMPLEID</th>\n",
       "      <th>CEL</th>\n",
       "    </tr>\n",
       "  </thead>\n",
       "  <tbody>\n",
       "    <tr>\n",
       "      <th>1774</th>\n",
       "      <td>Rhinovirus Duke</td>\n",
       "      <td>HRV10-011</td>\n",
       "      <td>30</td>\n",
       "      <td>Male</td>\n",
       "      <td>NaN</td>\n",
       "      <td>NaN</td>\n",
       "      <td>1</td>\n",
       "      <td>0</td>\n",
       "      <td>0.778151</td>\n",
       "      <td>0.0</td>\n",
       "      <td>DU10-04S11070</td>\n",
       "      <td>2536_116974_hg-u133a_2_31226_du10-04s11070.cel</td>\n",
       "    </tr>\n",
       "    <tr>\n",
       "      <th>1818</th>\n",
       "      <td>Rhinovirus Duke</td>\n",
       "      <td>HRV10-011</td>\n",
       "      <td>30</td>\n",
       "      <td>Male</td>\n",
       "      <td>NaN</td>\n",
       "      <td>NaN</td>\n",
       "      <td>1</td>\n",
       "      <td>0</td>\n",
       "      <td>0.778151</td>\n",
       "      <td>8.0</td>\n",
       "      <td>DU10-04S11773</td>\n",
       "      <td>2536_117007_hg-u133a_2_31555_du10-04s11773.cel</td>\n",
       "    </tr>\n",
       "    <tr>\n",
       "      <th>1843</th>\n",
       "      <td>Rhinovirus Duke</td>\n",
       "      <td>HRV10-011</td>\n",
       "      <td>30</td>\n",
       "      <td>Male</td>\n",
       "      <td>NaN</td>\n",
       "      <td>NaN</td>\n",
       "      <td>1</td>\n",
       "      <td>0</td>\n",
       "      <td>0.778151</td>\n",
       "      <td>12.0</td>\n",
       "      <td>DU10-04S16172</td>\n",
       "      <td>2536_117421_HG-U133A_2_31279_DU10-04S16172__N3...</td>\n",
       "    </tr>\n",
       "    <tr>\n",
       "      <th>1846</th>\n",
       "      <td>Rhinovirus Duke</td>\n",
       "      <td>HRV10-011</td>\n",
       "      <td>30</td>\n",
       "      <td>Male</td>\n",
       "      <td>NaN</td>\n",
       "      <td>NaN</td>\n",
       "      <td>1</td>\n",
       "      <td>0</td>\n",
       "      <td>0.778151</td>\n",
       "      <td>16.0</td>\n",
       "      <td>DU10-04S16460</td>\n",
       "      <td>2536_117281_HG-U133A_2_31356_DU10-04S16460.CEL</td>\n",
       "    </tr>\n",
       "    <tr>\n",
       "      <th>1870</th>\n",
       "      <td>Rhinovirus Duke</td>\n",
       "      <td>HRV10-011</td>\n",
       "      <td>30</td>\n",
       "      <td>Male</td>\n",
       "      <td>NaN</td>\n",
       "      <td>NaN</td>\n",
       "      <td>1</td>\n",
       "      <td>0</td>\n",
       "      <td>0.778151</td>\n",
       "      <td>20.0</td>\n",
       "      <td>DU10-04S16807</td>\n",
       "      <td>2536_117042_hg-u133a_2_31416_du10-04s16807.cel</td>\n",
       "    </tr>\n",
       "    <tr>\n",
       "      <th>1884</th>\n",
       "      <td>Rhinovirus Duke</td>\n",
       "      <td>HRV10-011</td>\n",
       "      <td>30</td>\n",
       "      <td>Male</td>\n",
       "      <td>NaN</td>\n",
       "      <td>NaN</td>\n",
       "      <td>1</td>\n",
       "      <td>0</td>\n",
       "      <td>0.778151</td>\n",
       "      <td>24.0</td>\n",
       "      <td>DU10-04S16955</td>\n",
       "      <td>2536_117036_hg-u133a_2_31354_du10-04s16955.cel</td>\n",
       "    </tr>\n",
       "    <tr>\n",
       "      <th>1928</th>\n",
       "      <td>Rhinovirus Duke</td>\n",
       "      <td>HRV10-011</td>\n",
       "      <td>30</td>\n",
       "      <td>Male</td>\n",
       "      <td>NaN</td>\n",
       "      <td>NaN</td>\n",
       "      <td>1</td>\n",
       "      <td>0</td>\n",
       "      <td>0.778151</td>\n",
       "      <td>36.0</td>\n",
       "      <td>DU10-04S08373</td>\n",
       "      <td>2536_117297_HG-U133A_2_31513_DU10-04S08373.CEL</td>\n",
       "    </tr>\n",
       "    <tr>\n",
       "      <th>1942</th>\n",
       "      <td>Rhinovirus Duke</td>\n",
       "      <td>HRV10-011</td>\n",
       "      <td>30</td>\n",
       "      <td>Male</td>\n",
       "      <td>NaN</td>\n",
       "      <td>NaN</td>\n",
       "      <td>1</td>\n",
       "      <td>0</td>\n",
       "      <td>0.778151</td>\n",
       "      <td>42.0</td>\n",
       "      <td>DU10-04S08566</td>\n",
       "      <td>2536_117022_hg-u133a_2_31213_du10-04s08566.cel</td>\n",
       "    </tr>\n",
       "    <tr>\n",
       "      <th>1977</th>\n",
       "      <td>Rhinovirus Duke</td>\n",
       "      <td>HRV10-011</td>\n",
       "      <td>30</td>\n",
       "      <td>Male</td>\n",
       "      <td>NaN</td>\n",
       "      <td>NaN</td>\n",
       "      <td>1</td>\n",
       "      <td>0</td>\n",
       "      <td>0.778151</td>\n",
       "      <td>48.0</td>\n",
       "      <td>DU10-04S07241</td>\n",
       "      <td>2536_117328_HG-U133A_2_31336_DU10-04S07241.CEL</td>\n",
       "    </tr>\n",
       "    <tr>\n",
       "      <th>1983</th>\n",
       "      <td>Rhinovirus Duke</td>\n",
       "      <td>HRV10-011</td>\n",
       "      <td>30</td>\n",
       "      <td>Male</td>\n",
       "      <td>NaN</td>\n",
       "      <td>NaN</td>\n",
       "      <td>1</td>\n",
       "      <td>0</td>\n",
       "      <td>0.778151</td>\n",
       "      <td>60.0</td>\n",
       "      <td>DU10-04S06890</td>\n",
       "      <td>2536_117220_hg-u133a_2_31231_du10-04s06890.cel</td>\n",
       "    </tr>\n",
       "    <tr>\n",
       "      <th>2003</th>\n",
       "      <td>Rhinovirus Duke</td>\n",
       "      <td>HRV10-011</td>\n",
       "      <td>30</td>\n",
       "      <td>Male</td>\n",
       "      <td>NaN</td>\n",
       "      <td>NaN</td>\n",
       "      <td>1</td>\n",
       "      <td>0</td>\n",
       "      <td>0.778151</td>\n",
       "      <td>72.0</td>\n",
       "      <td>DU10-04S07431</td>\n",
       "      <td>2536_117085_hg-u133a_2_31357_du10-04s07431.cel</td>\n",
       "    </tr>\n",
       "    <tr>\n",
       "      <th>2081</th>\n",
       "      <td>Rhinovirus Duke</td>\n",
       "      <td>HRV10-011</td>\n",
       "      <td>30</td>\n",
       "      <td>Male</td>\n",
       "      <td>NaN</td>\n",
       "      <td>NaN</td>\n",
       "      <td>1</td>\n",
       "      <td>0</td>\n",
       "      <td>0.778151</td>\n",
       "      <td>136.0</td>\n",
       "      <td>DU10-04S20253</td>\n",
       "      <td>2536_117446_HG-U133A_2_31533_DU10-04S20253__N3...</td>\n",
       "    </tr>\n",
       "  </tbody>\n",
       "</table>\n",
       "</div>"
      ],
      "text/plain": [
       "              STUDYID  SUBJECTID  AGE GENDER  EARLYTX SHAM  SHEDDING_SC1  \\\n",
       "1774  Rhinovirus Duke  HRV10-011   30   Male      NaN  NaN             1   \n",
       "1818  Rhinovirus Duke  HRV10-011   30   Male      NaN  NaN             1   \n",
       "1843  Rhinovirus Duke  HRV10-011   30   Male      NaN  NaN             1   \n",
       "1846  Rhinovirus Duke  HRV10-011   30   Male      NaN  NaN             1   \n",
       "1870  Rhinovirus Duke  HRV10-011   30   Male      NaN  NaN             1   \n",
       "1884  Rhinovirus Duke  HRV10-011   30   Male      NaN  NaN             1   \n",
       "1928  Rhinovirus Duke  HRV10-011   30   Male      NaN  NaN             1   \n",
       "1942  Rhinovirus Duke  HRV10-011   30   Male      NaN  NaN             1   \n",
       "1977  Rhinovirus Duke  HRV10-011   30   Male      NaN  NaN             1   \n",
       "1983  Rhinovirus Duke  HRV10-011   30   Male      NaN  NaN             1   \n",
       "2003  Rhinovirus Duke  HRV10-011   30   Male      NaN  NaN             1   \n",
       "2081  Rhinovirus Duke  HRV10-011   30   Male      NaN  NaN             1   \n",
       "\n",
       "      SYMPTOMATIC_SC2  LOGSYMPTSCORE_SC3  TIMEHOURS       SAMPLEID  \\\n",
       "1774                0           0.778151        0.0  DU10-04S11070   \n",
       "1818                0           0.778151        8.0  DU10-04S11773   \n",
       "1843                0           0.778151       12.0  DU10-04S16172   \n",
       "1846                0           0.778151       16.0  DU10-04S16460   \n",
       "1870                0           0.778151       20.0  DU10-04S16807   \n",
       "1884                0           0.778151       24.0  DU10-04S16955   \n",
       "1928                0           0.778151       36.0  DU10-04S08373   \n",
       "1942                0           0.778151       42.0  DU10-04S08566   \n",
       "1977                0           0.778151       48.0  DU10-04S07241   \n",
       "1983                0           0.778151       60.0  DU10-04S06890   \n",
       "2003                0           0.778151       72.0  DU10-04S07431   \n",
       "2081                0           0.778151      136.0  DU10-04S20253   \n",
       "\n",
       "                                                    CEL  \n",
       "1774     2536_116974_hg-u133a_2_31226_du10-04s11070.cel  \n",
       "1818     2536_117007_hg-u133a_2_31555_du10-04s11773.cel  \n",
       "1843  2536_117421_HG-U133A_2_31279_DU10-04S16172__N3...  \n",
       "1846     2536_117281_HG-U133A_2_31356_DU10-04S16460.CEL  \n",
       "1870     2536_117042_hg-u133a_2_31416_du10-04s16807.cel  \n",
       "1884     2536_117036_hg-u133a_2_31354_du10-04s16955.cel  \n",
       "1928     2536_117297_HG-U133A_2_31513_DU10-04S08373.CEL  \n",
       "1942     2536_117022_hg-u133a_2_31213_du10-04s08566.cel  \n",
       "1977     2536_117328_HG-U133A_2_31336_DU10-04S07241.CEL  \n",
       "1983     2536_117220_hg-u133a_2_31231_du10-04s06890.cel  \n",
       "2003     2536_117085_hg-u133a_2_31357_du10-04s07431.cel  \n",
       "2081  2536_117446_HG-U133A_2_31533_DU10-04S20253__N3...  "
      ]
     },
     "execution_count": 55,
     "metadata": {},
     "output_type": "execute_result"
    }
   ],
   "source": [
    "clinical_by_subjectid[92]"
   ]
  },
  {
   "cell_type": "markdown",
   "metadata": {
    "nbpresent": {
     "id": "63633830-5c8d-4b5f-a492-56b6346c8d9f"
    }
   },
   "source": [
    "When were the timepoints that were taken?"
   ]
  },
  {
   "cell_type": "code",
   "execution_count": 44,
   "metadata": {
    "collapsed": false,
    "nbpresent": {
     "id": "ad85540a-d699-4c67-811a-8a9a05b3eb44"
    }
   },
   "outputs": [
    {
     "data": {
      "text/plain": [
       "array([ -30. ,  -24. ,    0. ,    2. ,    4. ,    5. ,    8. ,   10. ,\n",
       "         12. ,   16. ,   18. ,   20. ,   21.5,   24. ,   26. ,   29. ,\n",
       "         30. ,   34. ,   36. ,   42. ,   45.5,   48. ,   50. ,   53. ,\n",
       "         58. ,   60. ,   66. ,   69.5,   72. ,   74. ,   77. ,   82. ,\n",
       "         84. ,   90. ,   93.5,   96. ,   98. ,  101. ,  106. ,  108. ,\n",
       "        114. ,  117.5,  120. ,  122. ,  125. ,  130. ,  132. ,  136. ,\n",
       "        138. ,  141.5,  146. ,  162. ,  165.5,  170. ,  672. ])"
      ]
     },
     "execution_count": 44,
     "metadata": {},
     "output_type": "execute_result"
    }
   ],
   "source": [
    "np.unique(clinical_df['TIMEHOURS'].values)"
   ]
  },
  {
   "cell_type": "markdown",
   "metadata": {
    "nbpresent": {
     "id": "aeb561d5-0ca2-4426-b497-602297f357dd"
    }
   },
   "source": [
    "Because this is timepoint data, and because it is so varied, it may be necessary to \"adjust\" the timepoints in some fashion to some round integer multiple, so that the data can be standardized. Otherwise, there may be insufficient data per timepoint to make any conclusions.\n",
    "\n",
    "Let's check that assumption first."
   ]
  },
  {
   "cell_type": "code",
   "execution_count": 50,
   "metadata": {
    "collapsed": false,
    "nbpresent": {
     "id": "a8306ae2-8cdb-4fc6-a156-05ba14345c66"
    }
   },
   "outputs": [
    {
     "data": {
      "text/plain": [
       "<matplotlib.text.Text at 0x1399b5fd0>"
      ]
     },
     "execution_count": 50,
     "metadata": {},
     "output_type": "execute_result"
    },
    {
     "data": {
      "image/png": "[encoded data removed]",
      "text/plain": [
       "<matplotlib.figure.Figure at 0x1144e3ac8>"
      ]
     },
     "metadata": {},
     "output_type": "display_data"
    }
   ],
   "source": [
    "from collections import Counter\n",
    "import matplotlib.pyplot as plt\n",
    "\n",
    "import seaborn as sns\n",
    "sns.set_context('poster')\n",
    "sns.set_style('white')\n",
    "\n",
    "%matplotlib inline\n",
    "\n",
    "timepoints = Counter(clinical_df['TIMEHOURS'])\n",
    "\n",
    "plt.bar(timepoints.keys(), timepoints.values())\n",
    "plt.xlabel('Time Point (hours)')\n",
    "plt.ylabel('Number of samples')"
   ]
  },
  {
   "cell_type": "markdown",
   "metadata": {
    "nbpresent": {
     "id": "9b218971-d4c0-47ab-b657-00ab561fbec5"
    }
   },
   "source": [
    "As we can see from the plot above, there's an outlier timepoint at 600+ hours. I think we can safely ignore that timepoint. \n",
    "\n",
    "I'm still not sure which is the best \"interval\" to standardize the data on."
   ]
  },
  {
   "cell_type": "markdown",
   "metadata": {},
   "source": [
    "After today's meeting, where we looked at the data together as a team, it looks like the data format that we'll need is as such:\n",
    "\n",
    "- rows = each patient.\n",
    "- columns = one gene-timepoint combination.\n",
    "\n",
    "Timepoints only have to be considered up till 24 hours. No need to consider beyond that - the challenge only goes up to 24 hours ([link](https://www.synapse.org/#!Synapse:syn5647810/wiki/399109))."
   ]
  },
  {
   "cell_type": "code",
   "execution_count": null,
   "metadata": {
    "collapsed": true,
    "nbpresent": {
     "id": "814f539c-1868-4097-9089-300cb055e669"
    }
   },
   "outputs": [],
   "source": []
  }
 ],
 "metadata": {
  "anaconda-cloud": {},
  "kernelspec": {
   "display_name": "Python [Root]",
   "language": "python",
   "name": "Python [Root]"
  },
  "language_info": {
   "codemirror_mode": {
    "name": "ipython",
    "version": 3
   },
   "file_extension": ".py",
   "mimetype": "text/x-python",
   "name": "python",
   "nbconvert_exporter": "python",
   "pygments_lexer": "ipython3",
   "version": "3.5.2"
  },
  "nbpresent": {
   "slides": {
    "23501f2e-b982-479e-85eb-434d622ad1d2": {
     "id": "23501f2e-b982-479e-85eb-434d622ad1d2",
     "prev": "ad21df37-250e-45d1-a72c-2df12c556bcd",
     "regions": {
      "97f30e5a-48ad-4b73-b29f-164164368f36": {
       "attrs": {
        "height": 0.8,
        "width": 0.8,
        "x": 0.1,
        "y": 0.1
       },
       "content": {
        "cell": "9b218971-d4c0-47ab-b657-00ab561fbec5",
        "part": "whole"
       },
       "id": "97f30e5a-48ad-4b73-b29f-164164368f36"
      }
     }
    },
    "26af996f-07ab-4e58-85f0-cfc45b0c046a": {
     "id": "26af996f-07ab-4e58-85f0-cfc45b0c046a",
     "prev": "8b17befe-5727-44ef-a981-1f1f06840e65",
     "regions": {
      "f84ba8c3-623e-46d9-a963-969ed627f6f6": {
       "attrs": {
        "height": 0.8,
        "width": 0.8,
        "x": 0.1,
        "y": 0.1
       },
       "content": {
        "cell": "6481f260-c4f0-474b-b9b7-e042c15fc432",
        "part": "whole"
       },
       "id": "f84ba8c3-623e-46d9-a963-969ed627f6f6"
      }
     }
    },
    "3604d6af-6be6-4159-b572-19f0425107c4": {
     "id": "3604d6af-6be6-4159-b572-19f0425107c4",
     "prev": "7ab4b74b-2fd6-4944-89ef-2cfcb90ae3b1",
     "regions": {
      "6bc49a57-5c7f-45ff-926b-17b228b2d9ac": {
       "attrs": {
        "height": 0.8,
        "width": 0.8,
        "x": 0.1,
        "y": 0.1
       },
       "content": {
        "cell": "0cbd743e-e305-4744-befb-1c935544df40",
        "part": "whole"
       },
       "id": "6bc49a57-5c7f-45ff-926b-17b228b2d9ac"
      }
     }
    },
    "360c3606-de33-428c-9b27-22a2f99ac86e": {
     "id": "360c3606-de33-428c-9b27-22a2f99ac86e",
     "prev": "720aeb3c-6b03-48a5-a31a-9ba67be68961",
     "regions": {
      "082aeefc-7dfe-40c5-9197-48ca7644eaae": {
       "attrs": {
        "height": 0.8,
        "width": 0.8,
        "x": 0.1,
        "y": 0.1
       },
       "content": {
        "cell": "7423f94c-ed4f-4b2a-993a-c655d910947e",
        "part": "whole"
       },
       "id": "082aeefc-7dfe-40c5-9197-48ca7644eaae"
      }
     }
    },
    "4401a48d-1fe2-452a-a4b9-9a36a762dede": {
     "id": "4401a48d-1fe2-452a-a4b9-9a36a762dede",
     "prev": "e5bbec69-5ec2-4983-b448-83d572710a02",
     "regions": {
      "b5d53055-0522-42ed-821a-2d829ce77b33": {
       "attrs": {
        "height": 0.8,
        "width": 0.8,
        "x": 0.1,
        "y": 0.1
       },
       "content": {
        "cell": "814f539c-1868-4097-9089-300cb055e669",
        "part": "whole"
       },
       "id": "b5d53055-0522-42ed-821a-2d829ce77b33"
      }
     }
    },
    "52f96ac9-e49b-4a6c-9d05-1cf689011d34": {
     "id": "52f96ac9-e49b-4a6c-9d05-1cf689011d34",
     "prev": "f1522688-4162-491a-9c29-e1ac1e352cb2",
     "regions": {
      "39c81d41-3629-4f01-8708-3b38dc53de82": {
       "attrs": {
        "height": 0.8,
        "width": 0.8,
        "x": 0.1,
        "y": 0.1
       },
       "content": {
        "cell": "9cbe09e5-d7b0-41b8-833b-ff31b32f3c10",
        "part": "whole"
       },
       "id": "39c81d41-3629-4f01-8708-3b38dc53de82"
      }
     }
    },
    "6265cbac-15c7-40e3-ad27-f58d4d0a06e2": {
     "id": "6265cbac-15c7-40e3-ad27-f58d4d0a06e2",
     "prev": "8d2fde02-3fde-4d52-b2b1-386b650679d4",
     "regions": {
      "888cb3b6-486b-46c5-a385-cecde6e9c606": {
       "attrs": {
        "height": 0.8,
        "width": 0.8,
        "x": 0.1,
        "y": 0.1
       },
       "content": {
        "cell": "ad85540a-d699-4c67-811a-8a9a05b3eb44",
        "part": "whole"
       },
       "id": "888cb3b6-486b-46c5-a385-cecde6e9c606"
      }
     }
    },
    "720aeb3c-6b03-48a5-a31a-9ba67be68961": {
     "id": "720aeb3c-6b03-48a5-a31a-9ba67be68961",
     "prev": "26af996f-07ab-4e58-85f0-cfc45b0c046a",
     "regions": {
      "3b9aea14-6768-4684-8791-e01c78faebdc": {
       "attrs": {
        "height": 0.8,
        "width": 0.8,
        "x": 0.1,
        "y": 0.1
       },
       "content": {
        "cell": "c7817088-7473-46eb-8535-a2832ac82c97",
        "part": "whole"
       },
       "id": "3b9aea14-6768-4684-8791-e01c78faebdc"
      }
     }
    },
    "7ab4b74b-2fd6-4944-89ef-2cfcb90ae3b1": {
     "id": "7ab4b74b-2fd6-4944-89ef-2cfcb90ae3b1",
     "prev": "982abc85-0c61-4318-957d-e2e5f5b1a6d3",
     "regions": {
      "38272021-5b4f-493a-a7a6-f635a726cc46": {
       "attrs": {
        "height": 0.8,
        "width": 0.8,
        "x": 0.1,
        "y": 0.1
       },
       "content": {
        "cell": "b359fe45-2726-4de8-950b-ec1df5193339",
        "part": "whole"
       },
       "id": "38272021-5b4f-493a-a7a6-f635a726cc46"
      }
     }
    },
    "8b17befe-5727-44ef-a981-1f1f06840e65": {
     "id": "8b17befe-5727-44ef-a981-1f1f06840e65",
     "prev": "cad14dda-172c-41bd-850a-07c24a5986ab",
     "regions": {
      "1f92e36a-1957-4679-8c83-e6a49c8f8a71": {
       "attrs": {
        "height": 0.8,
        "width": 0.8,
        "x": 0.1,
        "y": 0.1
       },
       "content": {
        "cell": "398e11ab-22d9-4948-9361-86e2db9a6261",
        "part": "whole"
       },
       "id": "1f92e36a-1957-4679-8c83-e6a49c8f8a71"
      }
     }
    },
    "8d2fde02-3fde-4d52-b2b1-386b650679d4": {
     "id": "8d2fde02-3fde-4d52-b2b1-386b650679d4",
     "prev": "92ce8348-5dec-4bf6-9969-3e3b582691ba",
     "regions": {
      "a159e4b8-0cb3-4c2c-a3df-e63e69df7831": {
       "attrs": {
        "height": 0.8,
        "width": 0.8,
        "x": 0.1,
        "y": 0.1
       },
       "content": {
        "cell": "63633830-5c8d-4b5f-a492-56b6346c8d9f",
        "part": "whole"
       },
       "id": "a159e4b8-0cb3-4c2c-a3df-e63e69df7831"
      }
     }
    },
    "92ce8348-5dec-4bf6-9969-3e3b582691ba": {
     "id": "92ce8348-5dec-4bf6-9969-3e3b582691ba",
     "prev": "3604d6af-6be6-4159-b572-19f0425107c4",
     "regions": {
      "b91c3ba7-dd30-498a-bf37-b545d76c7081": {
       "attrs": {
        "height": 0.8,
        "width": 0.8,
        "x": 0.1,
        "y": 0.1
       },
       "content": {
        "cell": "a766f5bb-dc93-451d-a5f3-d37b59bcfa5f",
        "part": "whole"
       },
       "id": "b91c3ba7-dd30-498a-bf37-b545d76c7081"
      }
     }
    },
    "982abc85-0c61-4318-957d-e2e5f5b1a6d3": {
     "id": "982abc85-0c61-4318-957d-e2e5f5b1a6d3",
     "prev": "acdda195-d8eb-4c99-b25b-ac37aeff8b8c",
     "regions": {
      "628adbc7-3274-4540-b824-e1e77f6c33a9": {
       "attrs": {
        "height": 0.8,
        "width": 0.8,
        "x": 0.1,
        "y": 0.1
       },
       "content": {
        "cell": "0a7487cd-afd0-421e-8792-959fb09df08e",
        "part": "whole"
       },
       "id": "628adbc7-3274-4540-b824-e1e77f6c33a9"
      }
     }
    },
    "acdda195-d8eb-4c99-b25b-ac37aeff8b8c": {
     "id": "acdda195-d8eb-4c99-b25b-ac37aeff8b8c",
     "prev": "f95703cf-088c-42e3-beb2-7f046443ac06",
     "regions": {
      "d7f7ca7d-a4f9-43f1-a75f-ed42ef814f16": {
       "attrs": {
        "height": 0.8,
        "width": 0.8,
        "x": 0.1,
        "y": 0.1
       },
       "content": {
        "cell": "ef6085f6-1630-4f91-8be7-0b28699ce014",
        "part": "whole"
       },
       "id": "d7f7ca7d-a4f9-43f1-a75f-ed42ef814f16"
      }
     }
    },
    "ad21df37-250e-45d1-a72c-2df12c556bcd": {
     "id": "ad21df37-250e-45d1-a72c-2df12c556bcd",
     "prev": "cd561f65-0673-4212-bb02-ef97e4e16179",
     "regions": {
      "3b49e17d-4035-4537-b25e-923eb86fa93c": {
       "attrs": {
        "height": 0.8,
        "width": 0.8,
        "x": 0.1,
        "y": 0.1
       },
       "content": {
        "cell": "a8306ae2-8cdb-4fc6-a156-05ba14345c66",
        "part": "whole"
       },
       "id": "3b49e17d-4035-4537-b25e-923eb86fa93c"
      }
     }
    },
    "af629f1f-56f7-42b6-ba67-5d1f58afe08c": {
     "id": "af629f1f-56f7-42b6-ba67-5d1f58afe08c",
     "prev": "360c3606-de33-428c-9b27-22a2f99ac86e",
     "regions": {
      "bd5c01e2-2446-44a2-87e4-23629d9fcfb7": {
       "attrs": {
        "height": 0.8,
        "width": 0.8,
        "x": 0.1,
        "y": 0.1
       },
       "content": {
        "cell": "2911cc08-da4d-46ad-aef1-a8a02dc8c66b",
        "part": "whole"
       },
       "id": "bd5c01e2-2446-44a2-87e4-23629d9fcfb7"
      }
     }
    },
    "cad14dda-172c-41bd-850a-07c24a5986ab": {
     "id": "cad14dda-172c-41bd-850a-07c24a5986ab",
     "prev": "52f96ac9-e49b-4a6c-9d05-1cf689011d34",
     "regions": {
      "d0d7ec9f-f075-4fd5-a6fa-f88c4e3aecee": {
       "attrs": {
        "height": 0.8,
        "width": 0.8,
        "x": 0.1,
        "y": 0.1
       },
       "content": {
        "cell": "698b45f2-efb9-4850-ae5c-6faa599d421c",
        "part": "whole"
       },
       "id": "d0d7ec9f-f075-4fd5-a6fa-f88c4e3aecee"
      }
     }
    },
    "cd561f65-0673-4212-bb02-ef97e4e16179": {
     "id": "cd561f65-0673-4212-bb02-ef97e4e16179",
     "prev": "6265cbac-15c7-40e3-ad27-f58d4d0a06e2",
     "regions": {
      "02066b8e-6773-4a50-8ccb-2c9063d225b9": {
       "attrs": {
        "height": 0.8,
        "width": 0.8,
        "x": 0.1,
        "y": 0.1
       },
       "content": {
        "cell": "aeb561d5-0ca2-4426-b497-602297f357dd",
        "part": "whole"
       },
       "id": "02066b8e-6773-4a50-8ccb-2c9063d225b9"
      }
     }
    },
    "e5bbec69-5ec2-4983-b448-83d572710a02": {
     "id": "e5bbec69-5ec2-4983-b448-83d572710a02",
     "prev": "23501f2e-b982-479e-85eb-434d622ad1d2",
     "regions": {
      "b0e56ba9-c30e-4674-abaf-e66adf4c754a": {
       "attrs": {
        "height": 0.8,
        "width": 0.8,
        "x": 0.1,
        "y": 0.1
       },
       "content": {
        "cell": "16c92cca-f558-442d-9ab4-619abb729b23",
        "part": "whole"
       },
       "id": "b0e56ba9-c30e-4674-abaf-e66adf4c754a"
      }
     }
    },
    "f1522688-4162-491a-9c29-e1ac1e352cb2": {
     "id": "f1522688-4162-491a-9c29-e1ac1e352cb2",
     "prev": null,
     "regions": {
      "d2c39ce4-5cbf-42e4-80b6-043ddc312bb3": {
       "attrs": {
        "height": 0.8,
        "width": 0.8,
        "x": 0.1,
        "y": 0.1
       },
       "content": {
        "cell": "e7e8f414-a46d-49dd-a449-a022d0d90a38",
        "part": "whole"
       },
       "id": "d2c39ce4-5cbf-42e4-80b6-043ddc312bb3"
      }
     }
    },
    "f95703cf-088c-42e3-beb2-7f046443ac06": {
     "id": "f95703cf-088c-42e3-beb2-7f046443ac06",
     "prev": "af629f1f-56f7-42b6-ba67-5d1f58afe08c",
     "regions": {
      "7a4edbe1-19a3-48be-9be7-745314c20fec": {
       "attrs": {
        "height": 0.8,
        "width": 0.8,
        "x": 0.1,
        "y": 0.1
       },
       "content": {
        "cell": "5132008d-9cf0-4484-ac40-52a7a78b646d",
        "part": "whole"
       },
       "id": "7a4edbe1-19a3-48be-9be7-745314c20fec"
      }
     }
    }
   },
   "themes": {}
  }
 },
 "nbformat": 4,
 "nbformat_minor": 0
}
